{
 "cells": [
  {
   "cell_type": "code",
   "execution_count": 1,
   "metadata": {
    "collapsed": true
   },
   "outputs": [],
   "source": [
    "import pandas as pd\n",
    "import numpy as np"
   ]
  },
  {
   "cell_type": "code",
   "execution_count": 2,
   "metadata": {
    "collapsed": false
   },
   "outputs": [
    {
     "data": {
      "text/plain": [
       "DatetimeIndex(['2017-08-27', '2017-08-28', '2017-08-29', '2017-08-30',\n",
       "               '2017-08-31', '2017-09-01'],\n",
       "              dtype='datetime64[ns]', freq='D')"
      ]
     },
     "execution_count": 2,
     "metadata": {},
     "output_type": "execute_result"
    }
   ],
   "source": [
    "dates=pd.date_range(\"20170827\", periods=6)\n",
    "dates"
   ]
  },
  {
   "cell_type": "code",
   "execution_count": 4,
   "metadata": {
    "collapsed": false
   },
   "outputs": [
    {
     "data": {
      "text/html": [
       "<div>\n",
       "<table border=\"1\" class=\"dataframe\">\n",
       "  <thead>\n",
       "    <tr style=\"text-align: right;\">\n",
       "      <th></th>\n",
       "      <th>A</th>\n",
       "      <th>B</th>\n",
       "      <th>C</th>\n",
       "      <th>D</th>\n",
       "    </tr>\n",
       "  </thead>\n",
       "  <tbody>\n",
       "    <tr>\n",
       "      <th>2017-08-27</th>\n",
       "      <td>-0.834234</td>\n",
       "      <td>-0.582354</td>\n",
       "      <td>-0.390304</td>\n",
       "      <td>-0.656665</td>\n",
       "    </tr>\n",
       "    <tr>\n",
       "      <th>2017-08-28</th>\n",
       "      <td>0.996778</td>\n",
       "      <td>1.259862</td>\n",
       "      <td>-1.252032</td>\n",
       "      <td>0.447227</td>\n",
       "    </tr>\n",
       "    <tr>\n",
       "      <th>2017-08-29</th>\n",
       "      <td>0.117388</td>\n",
       "      <td>-1.028278</td>\n",
       "      <td>-0.410780</td>\n",
       "      <td>-1.359431</td>\n",
       "    </tr>\n",
       "    <tr>\n",
       "      <th>2017-08-30</th>\n",
       "      <td>0.191098</td>\n",
       "      <td>0.467007</td>\n",
       "      <td>-1.929012</td>\n",
       "      <td>-0.211370</td>\n",
       "    </tr>\n",
       "    <tr>\n",
       "      <th>2017-08-31</th>\n",
       "      <td>-0.931068</td>\n",
       "      <td>-1.472866</td>\n",
       "      <td>-1.108666</td>\n",
       "      <td>0.126831</td>\n",
       "    </tr>\n",
       "    <tr>\n",
       "      <th>2017-09-01</th>\n",
       "      <td>0.369379</td>\n",
       "      <td>0.485766</td>\n",
       "      <td>-1.146984</td>\n",
       "      <td>0.373964</td>\n",
       "    </tr>\n",
       "  </tbody>\n",
       "</table>\n",
       "</div>"
      ],
      "text/plain": [
       "                   A         B         C         D\n",
       "2017-08-27 -0.834234 -0.582354 -0.390304 -0.656665\n",
       "2017-08-28  0.996778  1.259862 -1.252032  0.447227\n",
       "2017-08-29  0.117388 -1.028278 -0.410780 -1.359431\n",
       "2017-08-30  0.191098  0.467007 -1.929012 -0.211370\n",
       "2017-08-31 -0.931068 -1.472866 -1.108666  0.126831\n",
       "2017-09-01  0.369379  0.485766 -1.146984  0.373964"
      ]
     },
     "execution_count": 4,
     "metadata": {},
     "output_type": "execute_result"
    }
   ],
   "source": [
    "df=pd.DataFrame(np.random.randn(6,4),index=dates, columns=list(\"ABCD\"))\n",
    "df"
   ]
  }
 ],
 "metadata": {
  "kernelspec": {
   "display_name": "Python [default]",
   "language": "python",
   "name": "python3"
  },
  "language_info": {
   "codemirror_mode": {
    "name": "ipython",
    "version": 3
   },
   "file_extension": ".py",
   "mimetype": "text/x-python",
   "name": "python",
   "nbconvert_exporter": "python",
   "pygments_lexer": "ipython3",
   "version": "3.5.2"
  }
 },
 "nbformat": 4,
 "nbformat_minor": 1
}
